{
 "cells": [
  {
   "cell_type": "markdown",
   "metadata": {},
   "source": [
    "## Calculating NDVI from a LANDSAT 8 scene\n",
    "\n",
    "The [Normalized Difference Vegetation Index](https://en.wikipedia.org/wiki/Normalized_Difference_Vegetation_Index) is a simple indicator that can be used to assess whether the target, usually a remotely-sensed raster image, contains live green vegetation.  This calculation uses two bands of a remote dataset, the Red and Near-Infrared (NIR) bands.\n",
    "\n",
    "\\begin{align}\n",
    "NDVI & = \\frac{(NIR - Red)}{(NIR + Red)}\n",
    "\\end{align}\n",
    "\n",
    "For this tutorial, we'll use the NIR and Red bands from a landsat 8 scene above part of the central valley and the Sierra Nevada in California.  We'll be using [Level 1 datasets](https://landsat.usgs.gov/landsat-processing-details), orthorectified, map-projected images containing radiometrically calibrated data. These images can be individually downloaded from a variety of sources including:\n",
    "\n",
    "* [USGS EarthExplorer](https://earthexplorer.usgs.gov/) (Account required for download)\n",
    "* [Amazon AWS](https://aws.amazon.com/public-datasets/landsat/)\n",
    "\n",
    "The specific scene we'll be using is:\n",
    "\n",
    "* Collection: `LC08_L1TP_042034_20130605_20170310_01_T1` (Available from USGS Earth Explorer)\n",
    "* Pre-collection: `LC80420342013156LGN00` ([Available from Amazon AWS](https://landsat-pds.s3.amazonaws.com/L8/042/034/LC80420342013156LGN00/index.html))\n",
    "\n",
    "More information on Landsat collections here: [https://landsat.usgs.gov/landsat-collections](https://landsat.usgs.gov/landsat-collections)\n",
    "\n",
    "![Preview of our landsat 8 scene](https://landsat-pds.s3.amazonaws.com/L8/042/034/LC80420342013156LGN00/LC80420342013156LGN00_thumb_small.jpg)\n",
    "\n",
    "### Bands\n",
    "\n",
    "* Red: Band 4 (file: ``LC08_L1TP_042034_20130605_20170310_01_T1_B4.TIF``)\n",
    "* Near-Infrared: Band 5 (file: ``LC08_L1TP_042034_20130605_20170310_01_T1_B5.tif``)\n",
    "\n",
    "Because of the longevity of the landsat mission and because different sensors on the satellite record data at different resolutions, these bands are individually stored as single-band raster files.  Some other rasters may store multiple bands in the same file.\n",
    "\n",
    "## Goal\n",
    "\n",
    "Create a new raster with the calculated NDVI for this scene!"
   ]
  },
  {
   "cell_type": "code",
   "execution_count": 2,
   "metadata": {
    "collapsed": true
   },
   "outputs": [],
   "source": [
    "# We can use these constants for the paths so you don't have to type them out!\n",
    "# If you've cloned this repository, these files will already be here.\n",
    "\n",
    "L8_RED = 'datasets/LC08_L1TP_042034_20130605_20170310_01_T1_B4.TIF'\n",
    "L8_NIR = 'datasets/LC08_L1TP_042034_20130605_20170310_01_T1_B5.TIF'"
   ]
  },
  {
   "cell_type": "code",
   "execution_count": null,
   "metadata": {
    "collapsed": true
   },
   "outputs": [],
   "source": []
  }
 ],
 "metadata": {
  "celltoolbar": "Edit Metadata",
  "kernelspec": {
   "display_name": "Python 3",
   "language": "python",
   "name": "python3"
  },
  "language_info": {
   "codemirror_mode": {
    "name": "ipython",
    "version": 3
   },
   "file_extension": ".py",
   "mimetype": "text/x-python",
   "name": "python",
   "nbconvert_exporter": "python",
   "pygments_lexer": "ipython3",
   "version": "3.5.3"
  }
 },
 "nbformat": 4,
 "nbformat_minor": 2
}
